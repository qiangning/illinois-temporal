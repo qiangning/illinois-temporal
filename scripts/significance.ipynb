{
 "cells": [
  {
   "cell_type": "code",
   "execution_count": 37,
   "metadata": {},
   "outputs": [],
   "source": [
    "from matplotlib import pyplot as plt\n",
    "from scipy.signal import savgol_filter\n",
    "from scipy.stats import wilcoxon,ranksums\n",
    "import math\n",
    "\n",
    "import numpy as np\n",
    "\n",
    "def t_stat(scores1, scores2):\n",
    "    scores1 = np.array(scores1)\n",
    "    scores2 = np.array(scores2)\n",
    "    improvement = np.subtract(scores2,scores1)\n",
    "    n = len(scores1)\n",
    "    d = np.mean(improvement)\n",
    "    s = np.std(improvement)\n",
    "    if d>0:\n",
    "        print('+++mean=%.4f,std=%.4f+++' %(d,s))\n",
    "    else:\n",
    "        print('---mean=%.4f,std=%.4f---' %(d,s))\n",
    "    return 1.0*d*math.sqrt(n)/s\n"
   ]
  },
  {
   "cell_type": "code",
   "execution_count": 38,
   "metadata": {},
   "outputs": [
    {
     "name": "stdout",
     "output_type": "stream",
     "text": [
      "+++mean=0.0071,std=0.0114+++\n",
      "SR=1, T-test=4.4325\n",
      "WilcoxonResult(statistic=239.0, pvalue=0.00011965517407476322)\n",
      "RanksumsResult(statistic=3.9122427793219114, pvalue=9.1442913588637029e-05)\n",
      "+++mean=0.0116,std=0.0115+++\n",
      "SR=2, T-test=7.1174\n",
      "WilcoxonResult(statistic=89.0, pvalue=1.1913151364582724e-07)\n",
      "RanksumsResult(statistic=6.28026990654143, pvalue=3.3798574861877389e-10)\n",
      "+++mean=0.0104,std=0.0111+++\n",
      "SR=3, T-test=6.6507\n",
      "WilcoxonResult(statistic=124.0, pvalue=7.1605227091649758e-07)\n",
      "RanksumsResult(statistic=5.6977421270653039, pvalue=1.2140449446855001e-08)\n",
      "+++mean=0.0087,std=0.0119+++\n",
      "SR=4, T-test=5.1474\n",
      "WilcoxonResult(statistic=194.0, pvalue=1.8586389348703253e-05)\n",
      "RanksumsResult(statistic=4.949762670578207, pvalue=7.430403326856593e-07)\n",
      "+++mean=0.0086,std=0.0116+++\n",
      "SR=5, T-test=5.2500\n",
      "WilcoxonResult(statistic=190.0, pvalue=1.5614080678263502e-05)\n",
      "RanksumsResult(statistic=5.1221081674646349, pvalue=3.0213847724629009e-07)\n",
      "+++mean=0.0086,std=0.0084+++\n",
      "SR=6, T-test=7.1800\n",
      "WilcoxonResult(statistic=102.0, pvalue=2.3493381424195532e-07)\n",
      "RanksumsResult(statistic=5.7459988661935038, pvalue=9.137991857974933e-09)\n",
      "+++mean=0.0062,std=0.0094+++\n",
      "SR=7, T-test=4.6494\n",
      "WilcoxonResult(statistic=218.0, pvalue=5.1316124816357114e-05)\n",
      "RanksumsResult(statistic=3.8639860401937116, pvalue=0.00011155159944843511)\n",
      "+++mean=0.0043,std=0.0087+++\n",
      "SR=8, T-test=3.5227\n",
      "WilcoxonResult(statistic=272.0, pvalue=0.00041824749509896509)\n",
      "RanksumsResult(statistic=3.4606975774794706, pvalue=0.0005387777053132652)\n",
      "+++mean=0.0018,std=0.0059+++\n",
      "SR=9, T-test=2.1180\n",
      "WilcoxonResult(statistic=418.0, pvalue=0.034099369583334552)\n",
      "RanksumsResult(statistic=2.0681459626371339, pvalue=0.038626299780278241)\n",
      "+++mean=0.0008,std=0.0037+++\n",
      "SR=10, T-test=1.6203\n",
      "WilcoxonResult(statistic=449.0, pvalue=0.10386827482908775)\n",
      "RanksumsResult(statistic=1.9612917545675486, pvalue=0.049844998595555634)\n"
     ]
    }
   ],
   "source": [
    "filepath = \"/home/qning2/Research/illinois-temporal/logs/tmp/tempRel/tbdense/CoDL_PinBase/\"\n",
    "fname_prefix = \"eeTempRelClsNoVagSam\"\n",
    "fname_middle = \"win3_1mdl_global_resp_soft\"\n",
    "#fname_middle = \"win3_2mdl_global_resp_soft_lambda0.1\"\n",
    "Allscore_samMod_rel = []\n",
    "Allscore_samMod_doc = []\n",
    "Allscore_samMod_imp = []\n",
    "Allscore_samMod_rel_std = []\n",
    "Allscore_samMod_doc_std = []\n",
    "Allscore_samMod_imp_std = []\n",
    "def readScorefromFile(fname, scoreType):\n",
    "    with open(fname) as f:\n",
    "        line = f.readline()\n",
    "        while line and \"    EVALUATING EVENT TEMPREL CLASSIFICATION (MODE=1)    \" not in line:\n",
    "            line = f.readline()\n",
    "        while line and (scoreType+\" = \") not in line:\n",
    "            line = f.readline()\n",
    "        line = line.split(\" \");\n",
    "        return float(line[-1])\n",
    "\n",
    "    \n",
    "for sr in range(1,11):\n",
    "# for sr in range(1,10,2):\n",
    "    score_samMod_rel = []\n",
    "    score_samMod_doc = []\n",
    "    for seed in range(1,51):\n",
    "        fname_samMod_rel = filepath+\"seed\"+str(seed)+\"/\"+fname_prefix+\"_sr\"+(\"%.1f\" %(1.0*sr/10))+\"_\"+fname_middle+\"_sm0.txt\"\n",
    "        fname_samMod_doc = filepath+\"seed\"+str(seed)+\"/\"+fname_prefix+\"_sr\"+(\"%.1f\" %(1.0*sr/10))+\"_\"+fname_middle+\"_sm3.txt\"\n",
    "        if(seed!=0):\n",
    "            fname_samMod_rel = fname_samMod_rel.replace(\".txt\",\"_sd\"+str(seed)+\"_max1.txt\")\n",
    "            fname_samMod_doc = fname_samMod_doc.replace(\".txt\",\"_sd\"+str(seed)+\"_max1.txt\")\n",
    "        score_samMod_rel.append(readScorefromFile(fname_samMod_rel,'F-score'))\n",
    "        score_samMod_doc.append(readScorefromFile(fname_samMod_doc,'F-score'))\n",
    "    print 'SR=%d, T-test=%.4f' % (sr, t_stat(score_samMod_doc,score_samMod_rel))\n",
    "    print wilcoxon(score_samMod_rel,score_samMod_doc)\n",
    "    print ranksums(score_samMod_rel,score_samMod_doc)"
   ]
  },
  {
   "cell_type": "code",
   "execution_count": 31,
   "metadata": {},
   "outputs": [
    {
     "data": {
      "text/plain": [
       "WilcoxonResult(statistic=449.0, pvalue=0.10386827482908775)"
      ]
     },
     "execution_count": 31,
     "metadata": {},
     "output_type": "execute_result"
    }
   ],
   "source": [
    "scores1 = [1,2,3]\n",
    "scores2 = [3,5,6]\n",
    "# t_stat(scores1,scores2)\n"
   ]
  },
  {
   "cell_type": "code",
   "execution_count": 7,
   "metadata": {},
   "outputs": [],
   "source": [
    "import numpy as np"
   ]
  }
 ],
 "metadata": {
  "kernelspec": {
   "display_name": "Python 2",
   "language": "python",
   "name": "python2"
  },
  "language_info": {
   "codemirror_mode": {
    "name": "ipython",
    "version": 2
   },
   "file_extension": ".py",
   "mimetype": "text/x-python",
   "name": "python",
   "nbconvert_exporter": "python",
   "pygments_lexer": "ipython2",
   "version": "2.7.14"
  }
 },
 "nbformat": 4,
 "nbformat_minor": 2
}
