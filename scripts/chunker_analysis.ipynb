{
 "cells": [
  {
   "cell_type": "code",
   "execution_count": 6,
   "metadata": {
    "collapsed": true
   },
   "outputs": [],
   "source": [
    "import numpy as np\n",
    "import copy\n",
    "import math\n",
    "import matplotlib.pyplot as plt\n",
    "import pickle as pkl\n",
    "import random\n",
    "from scipy.signal import savgol_filter"
   ]
  },
  {
   "cell_type": "code",
   "execution_count": 17,
   "metadata": {
    "collapsed": true
   },
   "outputs": [],
   "source": [
    "class myseq:\n",
    "    empty_char = 'U'\n",
    "    def __init__(self,seq):\n",
    "        self.seq = list(seq)\n",
    "        self.original_seq = copy.deepcopy(self.seq)\n",
    "        self.n = len(self.seq)\n",
    "    def maskerInit(self,seed):\n",
    "        self.toMask = np.random.RandomState(seed=seed).permutation(self.n)\n",
    "        self.toMaskId = 0\n",
    "    def maskerReset(self):\n",
    "        self.toMaskId = 0\n",
    "        self.seq = copy.deepcopy(self.original_seq)\n",
    "    def maskNext(self):\n",
    "        if self.toMaskId >= self.n:\n",
    "            print \"masker already finished. did nothing here.\"\n",
    "            return\n",
    "        self.seq[self.toMask[self.toMaskId]] = myseq.empty_char\n",
    "        self.toMaskId += 1\n",
    "    def count(self):\n",
    "        # bb,ii,oo [t]: #possibilities ending at place t-1 with B/I/O. t=0,1,...,len(seq)\n",
    "        bb = 0\n",
    "        ii = 0\n",
    "        oo = 1\n",
    "        for step in range(0,self.n):\n",
    "            bb_prv = bb\n",
    "            ii_prv = ii\n",
    "            oo_prv = oo\n",
    "            bb = bb_prv+oo_prv+ii_prv\n",
    "            ii = bb_prv+ii_prv\n",
    "            oo = bb\n",
    "            if self.seq[step] != myseq.empty_char:\n",
    "                if self.seq[step] != 'B':\n",
    "                    bb = 0\n",
    "                if self.seq[step] != 'I':\n",
    "                    ii = 0\n",
    "                if self.seq[step] != 'O':\n",
    "                    oo = 0\n",
    "        return bb+ii+oo\n",
    "    def early_stop(self,seed):\n",
    "        self.maskerInit(seed)\n",
    "        allCnt = [self.count()]\n",
    "        for step in range(self.n):\n",
    "            self.maskNext()\n",
    "            allCnt.append(self.count())\n",
    "        return allCnt\n",
    "\n",
    "class genSeq:\n",
    "    def __init__(self,length,seed):\n",
    "        self.len = length\n",
    "        self.seed = seed\n",
    "        random.seed(seed)\n",
    "    def nextSeq(self):\n",
    "        seq = ['O']\n",
    "        for i in range(self.len):\n",
    "            r = random.random()\n",
    "            if seq[-1] == 'O':\n",
    "                if r < 0.5:\n",
    "                    seq.append('B')\n",
    "                else:\n",
    "                    seq.append('O')\n",
    "            else:\n",
    "                if r < 1.0/3:\n",
    "                    seq.append('B')\n",
    "                elif r < 2.0/3:\n",
    "                    seq.append('I')\n",
    "                else:\n",
    "                    seq.append('O')\n",
    "        return seq[1:]\n",
    "    def reset(self):\n",
    "        random.seed(seed)"
   ]
  },
  {
   "cell_type": "code",
   "execution_count": 20,
   "metadata": {},
   "outputs": [],
   "source": [
    "NumExp = 1000\n",
    "NumSeq = 100\n",
    "seqlength = 10\n",
    "seqgen = genSeq(seqlength,0)\n",
    "\n",
    "allIk = []\n",
    "for seqid in range(NumSeq):\n",
    "    seq = seqgen.nextSeq()\n",
    "    allCnt = []\n",
    "    for seed in range(0,NumExp):\n",
    "        a = myseq(seq)\n",
    "        allCnt += a.early_stop(seed)\n",
    "    allCnt = np.array(allCnt).reshape((NumExp,a.n+1))\n",
    "    Ik = np.mean(np.log2(allCnt),axis=0)\n",
    "    Ik = Ik[::-1]\n",
    "    allIk = np.concatenate((allIk,Ik))\n",
    "allIk = np.array(allIk).reshape((NumSeq,seqlength+1))"
   ]
  },
  {
   "cell_type": "code",
   "execution_count": 21,
   "metadata": {},
   "outputs": [
    {
     "data": {
      "image/png": "[encoded data removed]",
      "text/plain": [
       "<matplotlib.figure.Figure at 0x7f43740eeb10>"
      ]
     },
     "metadata": {},
     "output_type": "display_data"
    }
   ],
   "source": [
    "plt.figure(figsize=(6,3))\n",
    "# plt.subplot(211)\n",
    "# plt.plot([100.0*x/seqlength for x in range(seqlength)],savgol_filter(np.mean(allIk,axis=0),3,2),'k')\n",
    "# plt.title(\"$I_k$ (d=%d)\" % (seqlength))\n",
    "# plt.ylabel(\"bit\")\n",
    "# plt.rcParams.update({'font.size':16})\n",
    "# #plt.ylim(ymin=1/10000)\n",
    "# # plt.xlim((10,70))\n",
    "# plt.tight_layout()\n",
    "\n",
    "# plt.subplot(212)\n",
    "\n",
    "b = np.empty([allIk.shape[0],allIk.shape[1]-1])\n",
    "for i in range(0,allIk.shape[0]):\n",
    "    for j in range(1,allIk.shape[1]):\n",
    "        b[i,j-1] = allIk[i,j]-allIk[i,j-1]\n",
    "\n",
    "\n",
    "plt.plot([100.0*x/seqlength for x in range(1,seqlength+1)],savgol_filter(np.mean(b,axis=0),7,1),'k')\n",
    "plt.xlabel(\"Completeness ($100k/d$ %)\")\n",
    "plt.ylabel(\"bit\")\n",
    "plt.title(\"$I_{k}-I_{k-1}$\")\n",
    "plt.rcParams.update({'font.size':16})\n",
    "plt.ylim(ymin=-2,ymax=0)\n",
    "# plt.xlim((10,70))\n",
    "plt.tight_layout()\n",
    "\n",
    "plt.savefig(\"Chunker_d%d_seq%d_rep%d.pdf\" %(seqlength,NumSeq,NumExp))\n",
    "plt.show()"
   ]
  },
  {
   "cell_type": "code",
   "execution_count": 22,
   "metadata": {
    "collapsed": true
   },
   "outputs": [],
   "source": [
    "pkl.dump(allIk,open(\"Chunker_d%d_seq%d_rep%d.pkl\" %(seqlength,NumSeq,NumExp),\"wb\"))"
   ]
  },
  {
   "cell_type": "code",
   "execution_count": 41,
   "metadata": {},
   "outputs": [
    {
     "data": {
      "text/plain": [
       "array([ 16.19508379,  14.5854852 ,  13.1049473 ,  11.66291068,\n",
       "        10.1601606 ,   8.71894241,   7.22475694,   5.77840457,\n",
       "         4.52669842,   3.31718887,   2.12969028,   1.014376  ])"
      ]
     },
     "execution_count": 41,
     "metadata": {},
     "output_type": "execute_result"
    }
   ],
   "source": [
    "Ik = np.mean(np.log2(allCnt),axis=0)\n",
    "Ik[::-1]"
   ]
  },
  {
   "cell_type": "code",
   "execution_count": 12,
   "metadata": {},
   "outputs": [
    {
     "data": {
      "text/plain": [
       "(100, 10)"
      ]
     },
     "execution_count": 12,
     "metadata": {},
     "output_type": "execute_result"
    }
   ],
   "source": [
    "allIk.shape"
   ]
  }
 ],
 "metadata": {
  "kernelspec": {
   "display_name": "Python 2",
   "language": "python",
   "name": "python2"
  },
  "language_info": {
   "codemirror_mode": {
    "name": "ipython",
    "version": 2
   },
   "file_extension": ".py",
   "mimetype": "text/x-python",
   "name": "python",
   "nbconvert_exporter": "python",
   "pygments_lexer": "ipython2",
   "version": "2.7.14"
  }
 },
 "nbformat": 4,
 "nbformat_minor": 2
}
